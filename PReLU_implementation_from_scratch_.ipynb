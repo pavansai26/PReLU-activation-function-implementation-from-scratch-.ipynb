{
  "nbformat": 4,
  "nbformat_minor": 0,
  "metadata": {
    "colab": {
      "name": "PReLU implementation from scratch .ipynb",
      "provenance": [],
      "private_outputs": true,
      "authorship_tag": "ABX9TyPNN6VA0k03Ro1kiD+Zwuc7",
      "include_colab_link": true
    },
    "kernelspec": {
      "name": "python3",
      "display_name": "Python 3"
    }
  },
  "cells": [
    {
      "cell_type": "markdown",
      "metadata": {
        "id": "view-in-github",
        "colab_type": "text"
      },
      "source": [
        "<a href=\"https://colab.research.google.com/github/pavansai26/PReLU-activation-function-implementation-from-scratch-.ipynb/blob/master/PReLU_implementation_from_scratch_.ipynb\" target=\"_parent\"><img src=\"https://colab.research.google.com/assets/colab-badge.svg\" alt=\"Open In Colab\"/></a>"
      ]
    },
    {
      "cell_type": "code",
      "metadata": {
        "id": "8O3USeJgsQa7",
        "colab_type": "code",
        "colab": {}
      },
      "source": [
        "import numpy as np"
      ],
      "execution_count": null,
      "outputs": []
    },
    {
      "cell_type": "markdown",
      "metadata": {
        "id": "fjwmBmwgsfCg",
        "colab_type": "text"
      },
      "source": [
        "# PRELU ACTIVATION FUNCTION"
      ]
    },
    {
      "cell_type": "code",
      "metadata": {
        "id": "OCwCZYqgsuUy",
        "colab_type": "code",
        "colab": {}
      },
      "source": [
        "def prelu(x,a=0.1):\n",
        "   return np.maximum(a*x,x)"
      ],
      "execution_count": null,
      "outputs": []
    },
    {
      "cell_type": "code",
      "metadata": {
        "id": "N14GiARyul7-",
        "colab_type": "code",
        "colab": {}
      },
      "source": [
        "# plot inputs and outputs\n",
        "from matplotlib import pyplot\n",
        " \n",
        "# rectified linear function\n",
        "def leakyrelu(x,a=0.1):\n",
        "   return np.maximum(a*x,x)\n",
        " \n",
        "# define a series of inputs\n",
        "series_in = [x for x in range(-10, 11)]\n",
        "# calculate outputs for our inputs\n",
        "series_out = [prelu(x,a=0.1) for x in series_in]\n",
        "# line plot of raw inputs to rectified outputs\n",
        "pyplot.plot(series_in, series_out)\n",
        "pyplot.show()"
      ],
      "execution_count": null,
      "outputs": []
    },
    {
      "cell_type": "code",
      "metadata": {
        "id": "QD_Toz6hwIi4",
        "colab_type": "code",
        "colab": {}
      },
      "source": [
        "# plot inputs and outputs\n",
        "from matplotlib import pyplot\n",
        " \n",
        "# rectified linear function\n",
        "def leakyrelu(x,a=1.0):\n",
        "   return np.maximum(a*x,x)\n",
        " \n",
        "# define a series of inputs\n",
        "series_in = [x for x in range(-10, 11)]\n",
        "# calculate outputs for our inputs\n",
        "series_out = [prelu(x,a=1.0) for x in series_in]\n",
        "# line plot of raw inputs to rectified outputs\n",
        "pyplot.plot(series_in, series_out)\n",
        "pyplot.show()"
      ],
      "execution_count": null,
      "outputs": []
    },
    {
      "cell_type": "code",
      "metadata": {
        "id": "FHUys__FwTj4",
        "colab_type": "code",
        "colab": {}
      },
      "source": [
        ""
      ],
      "execution_count": null,
      "outputs": []
    }
  ]
}